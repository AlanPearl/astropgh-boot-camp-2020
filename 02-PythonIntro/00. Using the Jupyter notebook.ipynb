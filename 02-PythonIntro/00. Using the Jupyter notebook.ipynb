{
 "cells": [
  {
   "cell_type": "markdown",
   "metadata": {
    "nbpresent": {
     "id": "95b6bb9b-b79e-4ad5-8fa9-5de465ffbe66"
    }
   },
   "source": [
    "# Using the Jupyter notebook"
   ]
  },
  {
   "cell_type": "markdown",
   "metadata": {
    "nbpresent": {
     "id": "8c25ac6e-3312-4d59-a34a-9fe918f5aa57"
    }
   },
   "source": [
    "The **Jupyter notebook** allows you to write notebooks similar to e.g. Mathematica, SageMath, etc. The advantage of doing this is that you can include text, code, and plots in the same document. This makes it ideal for example to include code, notes, and plots about projects and sharing it with others."
   ]
  },
  {
   "cell_type": "markdown",
   "metadata": {
    "nbpresent": {
     "id": "b3d2f6f7-c558-4fff-9a25-91c328d8a400"
    }
   },
   "source": [
    "## Starting up"
   ]
  },
  {
   "cell_type": "markdown",
   "metadata": {
    "nbpresent": {
     "id": "7cc8e3c4-be1d-44f7-99f7-773347ede0bd"
    }
   },
   "source": [
    "The normal way to start up the IPython notebook is:\n",
    "\n",
    "    jupyter notebook\n",
    "    \n",
    "Once you do this, your web browser should open and go to a page showing a list of folders."
   ]
  },
  {
   "cell_type": "markdown",
   "metadata": {
    "nbpresent": {
     "id": "def841eb-06c3-45dd-929f-62b453f548fb"
    }
   },
   "source": [
    "## First steps"
   ]
  },
  {
   "cell_type": "markdown",
   "metadata": {
    "nbpresent": {
     "id": "120f3258-88a8-4bdb-908f-e94d98600e8e"
    }
   },
   "source": [
    "Click on **New** on the right then select **Python** (if there are several, select **Python [default]**), which will start a new document. You can change the name of the document by clicking on the **Untitled** name at the top and entering a new name. Make sure you then save the document (make sure that you save regularly as you might lose content if you close the browser window).\n",
    "\n",
    "At first glance, a notebook looks like a fairly typical application - it has a menubar (File, Edit, View, etc.) and a tool bar with icons. Below this, you will see an empty cell, in which you can type any Python code. You can write several lines of code, and once it is ready to run, you can press **shift-enter** and it will get executed:"
   ]
  },
  {
   "cell_type": "code",
   "execution_count": null,
   "metadata": {
    "nbpresent": {
     "id": "fbf2d2f2-eeb7-4509-acdc-15e4a537dd47"
    }
   },
   "outputs": [],
   "source": [
    "a = 1\n",
    "print(a)"
   ]
  },
  {
   "cell_type": "markdown",
   "metadata": {
    "nbpresent": {
     "id": "5c154836-de9a-4b14-af1c-b545929b0d2f"
    }
   },
   "source": [
    "You can then click on that cell, change the Python code, and press **shift-enter** again to re-execute the code. Once you have executed a cell once, a new cell will appear below. You can again enter some code, then press shift-enter to execute it."
   ]
  },
  {
   "cell_type": "markdown",
   "metadata": {
    "nbpresent": {
     "id": "ded46a09-247b-4210-86de-10c18a434dd4"
    }
   },
   "source": [
    "## Plotting"
   ]
  },
  {
   "cell_type": "markdown",
   "metadata": {},
   "source": [
    "The plotting package we will use during today' workshop is called `matplotlib`.  To use it within Jupyter notebooks we have to first apply a `matplotlib magic` command to tell `matplotlib` where to direct the plotting.  When using Jupyter notebooks, the two most common choices are\n",
    "\n",
    "1. `%matplotlib notebook`: generates an *INTERACTIVE* plot (e.g. - allowing you to pan/zoom into portions of the plot using the controls below the plot and download the resulting plot)\n",
    "2. `%matplotlib incline`: generates an non-interactive plot \"inline\" underneath the cell once the plot is generated.\n"
   ]
  },
  {
   "cell_type": "code",
   "execution_count": 4,
   "metadata": {
    "nbpresent": {
     "id": "c6dfdbcc-d701-49b2-ab03-54cfa38ce867"
    }
   },
   "outputs": [],
   "source": [
    "# Direct all subsequent matplotlib plots to an interactive on-screen image\n",
    "%matplotlib notebook"
   ]
  },
  {
   "cell_type": "markdown",
   "metadata": {
    "nbpresent": {
     "id": "1b5dbad8-35d8-4e2a-8877-e10162c1a5ce"
    }
   },
   "source": [
    "To make plots, enter any Matplotlib commands (which we'll learn about in the plotting section of the workshop), and just press shift-enter - note that all commands for a plot should be entered in one cell, you cannot split it up over multiple cells:"
   ]
  },
  {
   "cell_type": "code",
   "execution_count": 3,
   "metadata": {},
   "outputs": [
    {
     "data": {
      "application/javascript": [
       "/* Put everything inside the global mpl namespace */\n",
       "window.mpl = {};\n",
       "\n",
       "\n",
       "mpl.get_websocket_type = function() {\n",
       "    if (typeof(WebSocket) !== 'undefined') {\n",
       "        return WebSocket;\n",
       "    } else if (typeof(MozWebSocket) !== 'undefined') {\n",
       "        return MozWebSocket;\n",
       "    } else {\n",
       "        alert('Your browser does not have WebSocket support.' +\n",
       "              'Please try Chrome, Safari or Firefox ≥ 6. ' +\n",
       "              'Firefox 4 and 5 are also supported but you ' +\n",
       "              'have to enable WebSockets in about:config.');\n",
       "    };\n",
       "}\n",
       "\n",
       "mpl.figure = function(figure_id, websocket, ondownload, parent_element) {\n",
       "    this.id = figure_id;\n",
       "\n",
       "    this.ws = websocket;\n",
       "\n",
       "    this.supports_binary = (this.ws.binaryType != undefined);\n",
       "\n",
       "    if (!this.supports_binary) {\n",
       "        var warnings = document.getElementById(\"mpl-warnings\");\n",
       "        if (warnings) {\n",
       "            warnings.style.display = 'block';\n",
       "            warnings.textContent = (\n",
       "                \"This browser does not support binary websocket messages. \" +\n",
       "                    \"Performance may be slow.\");\n",
       "        }\n",
       "    }\n",
       "\n",
       "    this.imageObj = new Image();\n",
       "\n",
       "    this.context = undefined;\n",
       "    this.message = undefined;\n",
       "    this.canvas = undefined;\n",
       "    this.rubberband_canvas = undefined;\n",
       "    this.rubberband_context = undefined;\n",
       "    this.format_dropdown = undefined;\n",
       "\n",
       "    this.image_mode = 'full';\n",
       "\n",
       "    this.root = $('<div/>');\n",
       "    this._root_extra_style(this.root)\n",
       "    this.root.attr('style', 'display: inline-block');\n",
       "\n",
       "    $(parent_element).append(this.root);\n",
       "\n",
       "    this._init_header(this);\n",
       "    this._init_canvas(this);\n",
       "    this._init_toolbar(this);\n",
       "\n",
       "    var fig = this;\n",
       "\n",
       "    this.waiting = false;\n",
       "\n",
       "    this.ws.onopen =  function () {\n",
       "            fig.send_message(\"supports_binary\", {value: fig.supports_binary});\n",
       "            fig.send_message(\"send_image_mode\", {});\n",
       "            if (mpl.ratio != 1) {\n",
       "                fig.send_message(\"set_dpi_ratio\", {'dpi_ratio': mpl.ratio});\n",
       "            }\n",
       "            fig.send_message(\"refresh\", {});\n",
       "        }\n",
       "\n",
       "    this.imageObj.onload = function() {\n",
       "            if (fig.image_mode == 'full') {\n",
       "                // Full images could contain transparency (where diff images\n",
       "                // almost always do), so we need to clear the canvas so that\n",
       "                // there is no ghosting.\n",
       "                fig.context.clearRect(0, 0, fig.canvas.width, fig.canvas.height);\n",
       "            }\n",
       "            fig.context.drawImage(fig.imageObj, 0, 0);\n",
       "        };\n",
       "\n",
       "    this.imageObj.onunload = function() {\n",
       "        fig.ws.close();\n",
       "    }\n",
       "\n",
       "    this.ws.onmessage = this._make_on_message_function(this);\n",
       "\n",
       "    this.ondownload = ondownload;\n",
       "}\n",
       "\n",
       "mpl.figure.prototype._init_header = function() {\n",
       "    var titlebar = $(\n",
       "        '<div class=\"ui-dialog-titlebar ui-widget-header ui-corner-all ' +\n",
       "        'ui-helper-clearfix\"/>');\n",
       "    var titletext = $(\n",
       "        '<div class=\"ui-dialog-title\" style=\"width: 100%; ' +\n",
       "        'text-align: center; padding: 3px;\"/>');\n",
       "    titlebar.append(titletext)\n",
       "    this.root.append(titlebar);\n",
       "    this.header = titletext[0];\n",
       "}\n",
       "\n",
       "\n",
       "\n",
       "mpl.figure.prototype._canvas_extra_style = function(canvas_div) {\n",
       "\n",
       "}\n",
       "\n",
       "\n",
       "mpl.figure.prototype._root_extra_style = function(canvas_div) {\n",
       "\n",
       "}\n",
       "\n",
       "mpl.figure.prototype._init_canvas = function() {\n",
       "    var fig = this;\n",
       "\n",
       "    var canvas_div = $('<div/>');\n",
       "\n",
       "    canvas_div.attr('style', 'position: relative; clear: both; outline: 0');\n",
       "\n",
       "    function canvas_keyboard_event(event) {\n",
       "        return fig.key_event(event, event['data']);\n",
       "    }\n",
       "\n",
       "    canvas_div.keydown('key_press', canvas_keyboard_event);\n",
       "    canvas_div.keyup('key_release', canvas_keyboard_event);\n",
       "    this.canvas_div = canvas_div\n",
       "    this._canvas_extra_style(canvas_div)\n",
       "    this.root.append(canvas_div);\n",
       "\n",
       "    var canvas = $('<canvas/>');\n",
       "    canvas.addClass('mpl-canvas');\n",
       "    canvas.attr('style', \"left: 0; top: 0; z-index: 0; outline: 0\")\n",
       "\n",
       "    this.canvas = canvas[0];\n",
       "    this.context = canvas[0].getContext(\"2d\");\n",
       "\n",
       "    var backingStore = this.context.backingStorePixelRatio ||\n",
       "\tthis.context.webkitBackingStorePixelRatio ||\n",
       "\tthis.context.mozBackingStorePixelRatio ||\n",
       "\tthis.context.msBackingStorePixelRatio ||\n",
       "\tthis.context.oBackingStorePixelRatio ||\n",
       "\tthis.context.backingStorePixelRatio || 1;\n",
       "\n",
       "    mpl.ratio = (window.devicePixelRatio || 1) / backingStore;\n",
       "\n",
       "    var rubberband = $('<canvas/>');\n",
       "    rubberband.attr('style', \"position: absolute; left: 0; top: 0; z-index: 1;\")\n",
       "\n",
       "    var pass_mouse_events = true;\n",
       "\n",
       "    canvas_div.resizable({\n",
       "        start: function(event, ui) {\n",
       "            pass_mouse_events = false;\n",
       "        },\n",
       "        resize: function(event, ui) {\n",
       "            fig.request_resize(ui.size.width, ui.size.height);\n",
       "        },\n",
       "        stop: function(event, ui) {\n",
       "            pass_mouse_events = true;\n",
       "            fig.request_resize(ui.size.width, ui.size.height);\n",
       "        },\n",
       "    });\n",
       "\n",
       "    function mouse_event_fn(event) {\n",
       "        if (pass_mouse_events)\n",
       "            return fig.mouse_event(event, event['data']);\n",
       "    }\n",
       "\n",
       "    rubberband.mousedown('button_press', mouse_event_fn);\n",
       "    rubberband.mouseup('button_release', mouse_event_fn);\n",
       "    // Throttle sequential mouse events to 1 every 20ms.\n",
       "    rubberband.mousemove('motion_notify', mouse_event_fn);\n",
       "\n",
       "    rubberband.mouseenter('figure_enter', mouse_event_fn);\n",
       "    rubberband.mouseleave('figure_leave', mouse_event_fn);\n",
       "\n",
       "    canvas_div.on(\"wheel\", function (event) {\n",
       "        event = event.originalEvent;\n",
       "        event['data'] = 'scroll'\n",
       "        if (event.deltaY < 0) {\n",
       "            event.step = 1;\n",
       "        } else {\n",
       "            event.step = -1;\n",
       "        }\n",
       "        mouse_event_fn(event);\n",
       "    });\n",
       "\n",
       "    canvas_div.append(canvas);\n",
       "    canvas_div.append(rubberband);\n",
       "\n",
       "    this.rubberband = rubberband;\n",
       "    this.rubberband_canvas = rubberband[0];\n",
       "    this.rubberband_context = rubberband[0].getContext(\"2d\");\n",
       "    this.rubberband_context.strokeStyle = \"#000000\";\n",
       "\n",
       "    this._resize_canvas = function(width, height) {\n",
       "        // Keep the size of the canvas, canvas container, and rubber band\n",
       "        // canvas in synch.\n",
       "        canvas_div.css('width', width)\n",
       "        canvas_div.css('height', height)\n",
       "\n",
       "        canvas.attr('width', width * mpl.ratio);\n",
       "        canvas.attr('height', height * mpl.ratio);\n",
       "        canvas.attr('style', 'width: ' + width + 'px; height: ' + height + 'px;');\n",
       "\n",
       "        rubberband.attr('width', width);\n",
       "        rubberband.attr('height', height);\n",
       "    }\n",
       "\n",
       "    // Set the figure to an initial 600x600px, this will subsequently be updated\n",
       "    // upon first draw.\n",
       "    this._resize_canvas(600, 600);\n",
       "\n",
       "    // Disable right mouse context menu.\n",
       "    $(this.rubberband_canvas).bind(\"contextmenu\",function(e){\n",
       "        return false;\n",
       "    });\n",
       "\n",
       "    function set_focus () {\n",
       "        canvas.focus();\n",
       "        canvas_div.focus();\n",
       "    }\n",
       "\n",
       "    window.setTimeout(set_focus, 100);\n",
       "}\n",
       "\n",
       "mpl.figure.prototype._init_toolbar = function() {\n",
       "    var fig = this;\n",
       "\n",
       "    var nav_element = $('<div/>')\n",
       "    nav_element.attr('style', 'width: 100%');\n",
       "    this.root.append(nav_element);\n",
       "\n",
       "    // Define a callback function for later on.\n",
       "    function toolbar_event(event) {\n",
       "        return fig.toolbar_button_onclick(event['data']);\n",
       "    }\n",
       "    function toolbar_mouse_event(event) {\n",
       "        return fig.toolbar_button_onmouseover(event['data']);\n",
       "    }\n",
       "\n",
       "    for(var toolbar_ind in mpl.toolbar_items) {\n",
       "        var name = mpl.toolbar_items[toolbar_ind][0];\n",
       "        var tooltip = mpl.toolbar_items[toolbar_ind][1];\n",
       "        var image = mpl.toolbar_items[toolbar_ind][2];\n",
       "        var method_name = mpl.toolbar_items[toolbar_ind][3];\n",
       "\n",
       "        if (!name) {\n",
       "            // put a spacer in here.\n",
       "            continue;\n",
       "        }\n",
       "        var button = $('<button/>');\n",
       "        button.addClass('ui-button ui-widget ui-state-default ui-corner-all ' +\n",
       "                        'ui-button-icon-only');\n",
       "        button.attr('role', 'button');\n",
       "        button.attr('aria-disabled', 'false');\n",
       "        button.click(method_name, toolbar_event);\n",
       "        button.mouseover(tooltip, toolbar_mouse_event);\n",
       "\n",
       "        var icon_img = $('<span/>');\n",
       "        icon_img.addClass('ui-button-icon-primary ui-icon');\n",
       "        icon_img.addClass(image);\n",
       "        icon_img.addClass('ui-corner-all');\n",
       "\n",
       "        var tooltip_span = $('<span/>');\n",
       "        tooltip_span.addClass('ui-button-text');\n",
       "        tooltip_span.html(tooltip);\n",
       "\n",
       "        button.append(icon_img);\n",
       "        button.append(tooltip_span);\n",
       "\n",
       "        nav_element.append(button);\n",
       "    }\n",
       "\n",
       "    var fmt_picker_span = $('<span/>');\n",
       "\n",
       "    var fmt_picker = $('<select/>');\n",
       "    fmt_picker.addClass('mpl-toolbar-option ui-widget ui-widget-content');\n",
       "    fmt_picker_span.append(fmt_picker);\n",
       "    nav_element.append(fmt_picker_span);\n",
       "    this.format_dropdown = fmt_picker[0];\n",
       "\n",
       "    for (var ind in mpl.extensions) {\n",
       "        var fmt = mpl.extensions[ind];\n",
       "        var option = $(\n",
       "            '<option/>', {selected: fmt === mpl.default_extension}).html(fmt);\n",
       "        fmt_picker.append(option)\n",
       "    }\n",
       "\n",
       "    // Add hover states to the ui-buttons\n",
       "    $( \".ui-button\" ).hover(\n",
       "        function() { $(this).addClass(\"ui-state-hover\");},\n",
       "        function() { $(this).removeClass(\"ui-state-hover\");}\n",
       "    );\n",
       "\n",
       "    var status_bar = $('<span class=\"mpl-message\"/>');\n",
       "    nav_element.append(status_bar);\n",
       "    this.message = status_bar[0];\n",
       "}\n",
       "\n",
       "mpl.figure.prototype.request_resize = function(x_pixels, y_pixels) {\n",
       "    // Request matplotlib to resize the figure. Matplotlib will then trigger a resize in the client,\n",
       "    // which will in turn request a refresh of the image.\n",
       "    this.send_message('resize', {'width': x_pixels, 'height': y_pixels});\n",
       "}\n",
       "\n",
       "mpl.figure.prototype.send_message = function(type, properties) {\n",
       "    properties['type'] = type;\n",
       "    properties['figure_id'] = this.id;\n",
       "    this.ws.send(JSON.stringify(properties));\n",
       "}\n",
       "\n",
       "mpl.figure.prototype.send_draw_message = function() {\n",
       "    if (!this.waiting) {\n",
       "        this.waiting = true;\n",
       "        this.ws.send(JSON.stringify({type: \"draw\", figure_id: this.id}));\n",
       "    }\n",
       "}\n",
       "\n",
       "\n",
       "mpl.figure.prototype.handle_save = function(fig, msg) {\n",
       "    var format_dropdown = fig.format_dropdown;\n",
       "    var format = format_dropdown.options[format_dropdown.selectedIndex].value;\n",
       "    fig.ondownload(fig, format);\n",
       "}\n",
       "\n",
       "\n",
       "mpl.figure.prototype.handle_resize = function(fig, msg) {\n",
       "    var size = msg['size'];\n",
       "    if (size[0] != fig.canvas.width || size[1] != fig.canvas.height) {\n",
       "        fig._resize_canvas(size[0], size[1]);\n",
       "        fig.send_message(\"refresh\", {});\n",
       "    };\n",
       "}\n",
       "\n",
       "mpl.figure.prototype.handle_rubberband = function(fig, msg) {\n",
       "    var x0 = msg['x0'] / mpl.ratio;\n",
       "    var y0 = (fig.canvas.height - msg['y0']) / mpl.ratio;\n",
       "    var x1 = msg['x1'] / mpl.ratio;\n",
       "    var y1 = (fig.canvas.height - msg['y1']) / mpl.ratio;\n",
       "    x0 = Math.floor(x0) + 0.5;\n",
       "    y0 = Math.floor(y0) + 0.5;\n",
       "    x1 = Math.floor(x1) + 0.5;\n",
       "    y1 = Math.floor(y1) + 0.5;\n",
       "    var min_x = Math.min(x0, x1);\n",
       "    var min_y = Math.min(y0, y1);\n",
       "    var width = Math.abs(x1 - x0);\n",
       "    var height = Math.abs(y1 - y0);\n",
       "\n",
       "    fig.rubberband_context.clearRect(\n",
       "        0, 0, fig.canvas.width, fig.canvas.height);\n",
       "\n",
       "    fig.rubberband_context.strokeRect(min_x, min_y, width, height);\n",
       "}\n",
       "\n",
       "mpl.figure.prototype.handle_figure_label = function(fig, msg) {\n",
       "    // Updates the figure title.\n",
       "    fig.header.textContent = msg['label'];\n",
       "}\n",
       "\n",
       "mpl.figure.prototype.handle_cursor = function(fig, msg) {\n",
       "    var cursor = msg['cursor'];\n",
       "    switch(cursor)\n",
       "    {\n",
       "    case 0:\n",
       "        cursor = 'pointer';\n",
       "        break;\n",
       "    case 1:\n",
       "        cursor = 'default';\n",
       "        break;\n",
       "    case 2:\n",
       "        cursor = 'crosshair';\n",
       "        break;\n",
       "    case 3:\n",
       "        cursor = 'move';\n",
       "        break;\n",
       "    }\n",
       "    fig.rubberband_canvas.style.cursor = cursor;\n",
       "}\n",
       "\n",
       "mpl.figure.prototype.handle_message = function(fig, msg) {\n",
       "    fig.message.textContent = msg['message'];\n",
       "}\n",
       "\n",
       "mpl.figure.prototype.handle_draw = function(fig, msg) {\n",
       "    // Request the server to send over a new figure.\n",
       "    fig.send_draw_message();\n",
       "}\n",
       "\n",
       "mpl.figure.prototype.handle_image_mode = function(fig, msg) {\n",
       "    fig.image_mode = msg['mode'];\n",
       "}\n",
       "\n",
       "mpl.figure.prototype.updated_canvas_event = function() {\n",
       "    // Called whenever the canvas gets updated.\n",
       "    this.send_message(\"ack\", {});\n",
       "}\n",
       "\n",
       "// A function to construct a web socket function for onmessage handling.\n",
       "// Called in the figure constructor.\n",
       "mpl.figure.prototype._make_on_message_function = function(fig) {\n",
       "    return function socket_on_message(evt) {\n",
       "        if (evt.data instanceof Blob) {\n",
       "            /* FIXME: We get \"Resource interpreted as Image but\n",
       "             * transferred with MIME type text/plain:\" errors on\n",
       "             * Chrome.  But how to set the MIME type?  It doesn't seem\n",
       "             * to be part of the websocket stream */\n",
       "            evt.data.type = \"image/png\";\n",
       "\n",
       "            /* Free the memory for the previous frames */\n",
       "            if (fig.imageObj.src) {\n",
       "                (window.URL || window.webkitURL).revokeObjectURL(\n",
       "                    fig.imageObj.src);\n",
       "            }\n",
       "\n",
       "            fig.imageObj.src = (window.URL || window.webkitURL).createObjectURL(\n",
       "                evt.data);\n",
       "            fig.updated_canvas_event();\n",
       "            fig.waiting = false;\n",
       "            return;\n",
       "        }\n",
       "        else if (typeof evt.data === 'string' && evt.data.slice(0, 21) == \"data:image/png;base64\") {\n",
       "            fig.imageObj.src = evt.data;\n",
       "            fig.updated_canvas_event();\n",
       "            fig.waiting = false;\n",
       "            return;\n",
       "        }\n",
       "\n",
       "        var msg = JSON.parse(evt.data);\n",
       "        var msg_type = msg['type'];\n",
       "\n",
       "        // Call the  \"handle_{type}\" callback, which takes\n",
       "        // the figure and JSON message as its only arguments.\n",
       "        try {\n",
       "            var callback = fig[\"handle_\" + msg_type];\n",
       "        } catch (e) {\n",
       "            console.log(\"No handler for the '\" + msg_type + \"' message type: \", msg);\n",
       "            return;\n",
       "        }\n",
       "\n",
       "        if (callback) {\n",
       "            try {\n",
       "                // console.log(\"Handling '\" + msg_type + \"' message: \", msg);\n",
       "                callback(fig, msg);\n",
       "            } catch (e) {\n",
       "                console.log(\"Exception inside the 'handler_\" + msg_type + \"' callback:\", e, e.stack, msg);\n",
       "            }\n",
       "        }\n",
       "    };\n",
       "}\n",
       "\n",
       "// from http://stackoverflow.com/questions/1114465/getting-mouse-location-in-canvas\n",
       "mpl.findpos = function(e) {\n",
       "    //this section is from http://www.quirksmode.org/js/events_properties.html\n",
       "    var targ;\n",
       "    if (!e)\n",
       "        e = window.event;\n",
       "    if (e.target)\n",
       "        targ = e.target;\n",
       "    else if (e.srcElement)\n",
       "        targ = e.srcElement;\n",
       "    if (targ.nodeType == 3) // defeat Safari bug\n",
       "        targ = targ.parentNode;\n",
       "\n",
       "    // jQuery normalizes the pageX and pageY\n",
       "    // pageX,Y are the mouse positions relative to the document\n",
       "    // offset() returns the position of the element relative to the document\n",
       "    var x = e.pageX - $(targ).offset().left;\n",
       "    var y = e.pageY - $(targ).offset().top;\n",
       "\n",
       "    return {\"x\": x, \"y\": y};\n",
       "};\n",
       "\n",
       "/*\n",
       " * return a copy of an object with only non-object keys\n",
       " * we need this to avoid circular references\n",
       " * http://stackoverflow.com/a/24161582/3208463\n",
       " */\n",
       "function simpleKeys (original) {\n",
       "  return Object.keys(original).reduce(function (obj, key) {\n",
       "    if (typeof original[key] !== 'object')\n",
       "        obj[key] = original[key]\n",
       "    return obj;\n",
       "  }, {});\n",
       "}\n",
       "\n",
       "mpl.figure.prototype.mouse_event = function(event, name) {\n",
       "    var canvas_pos = mpl.findpos(event)\n",
       "\n",
       "    if (name === 'button_press')\n",
       "    {\n",
       "        this.canvas.focus();\n",
       "        this.canvas_div.focus();\n",
       "    }\n",
       "\n",
       "    var x = canvas_pos.x * mpl.ratio;\n",
       "    var y = canvas_pos.y * mpl.ratio;\n",
       "\n",
       "    this.send_message(name, {x: x, y: y, button: event.button,\n",
       "                             step: event.step,\n",
       "                             guiEvent: simpleKeys(event)});\n",
       "\n",
       "    /* This prevents the web browser from automatically changing to\n",
       "     * the text insertion cursor when the button is pressed.  We want\n",
       "     * to control all of the cursor setting manually through the\n",
       "     * 'cursor' event from matplotlib */\n",
       "    event.preventDefault();\n",
       "    return false;\n",
       "}\n",
       "\n",
       "mpl.figure.prototype._key_event_extra = function(event, name) {\n",
       "    // Handle any extra behaviour associated with a key event\n",
       "}\n",
       "\n",
       "mpl.figure.prototype.key_event = function(event, name) {\n",
       "\n",
       "    // Prevent repeat events\n",
       "    if (name == 'key_press')\n",
       "    {\n",
       "        if (event.which === this._key)\n",
       "            return;\n",
       "        else\n",
       "            this._key = event.which;\n",
       "    }\n",
       "    if (name == 'key_release')\n",
       "        this._key = null;\n",
       "\n",
       "    var value = '';\n",
       "    if (event.ctrlKey && event.which != 17)\n",
       "        value += \"ctrl+\";\n",
       "    if (event.altKey && event.which != 18)\n",
       "        value += \"alt+\";\n",
       "    if (event.shiftKey && event.which != 16)\n",
       "        value += \"shift+\";\n",
       "\n",
       "    value += 'k';\n",
       "    value += event.which.toString();\n",
       "\n",
       "    this._key_event_extra(event, name);\n",
       "\n",
       "    this.send_message(name, {key: value,\n",
       "                             guiEvent: simpleKeys(event)});\n",
       "    return false;\n",
       "}\n",
       "\n",
       "mpl.figure.prototype.toolbar_button_onclick = function(name) {\n",
       "    if (name == 'download') {\n",
       "        this.handle_save(this, null);\n",
       "    } else {\n",
       "        this.send_message(\"toolbar_button\", {name: name});\n",
       "    }\n",
       "};\n",
       "\n",
       "mpl.figure.prototype.toolbar_button_onmouseover = function(tooltip) {\n",
       "    this.message.textContent = tooltip;\n",
       "};\n",
       "mpl.toolbar_items = [[\"Home\", \"Reset original view\", \"fa fa-home icon-home\", \"home\"], [\"Back\", \"Back to previous view\", \"fa fa-arrow-left icon-arrow-left\", \"back\"], [\"Forward\", \"Forward to next view\", \"fa fa-arrow-right icon-arrow-right\", \"forward\"], [\"\", \"\", \"\", \"\"], [\"Pan\", \"Pan axes with left mouse, zoom with right\", \"fa fa-arrows icon-move\", \"pan\"], [\"Zoom\", \"Zoom to rectangle\", \"fa fa-square-o icon-check-empty\", \"zoom\"], [\"\", \"\", \"\", \"\"], [\"Download\", \"Download plot\", \"fa fa-floppy-o icon-save\", \"download\"]];\n",
       "\n",
       "mpl.extensions = [\"eps\", \"jpeg\", \"pdf\", \"png\", \"ps\", \"raw\", \"svg\", \"tif\"];\n",
       "\n",
       "mpl.default_extension = \"png\";var comm_websocket_adapter = function(comm) {\n",
       "    // Create a \"websocket\"-like object which calls the given IPython comm\n",
       "    // object with the appropriate methods. Currently this is a non binary\n",
       "    // socket, so there is still some room for performance tuning.\n",
       "    var ws = {};\n",
       "\n",
       "    ws.close = function() {\n",
       "        comm.close()\n",
       "    };\n",
       "    ws.send = function(m) {\n",
       "        //console.log('sending', m);\n",
       "        comm.send(m);\n",
       "    };\n",
       "    // Register the callback with on_msg.\n",
       "    comm.on_msg(function(msg) {\n",
       "        //console.log('receiving', msg['content']['data'], msg);\n",
       "        // Pass the mpl event to the overridden (by mpl) onmessage function.\n",
       "        ws.onmessage(msg['content']['data'])\n",
       "    });\n",
       "    return ws;\n",
       "}\n",
       "\n",
       "mpl.mpl_figure_comm = function(comm, msg) {\n",
       "    // This is the function which gets called when the mpl process\n",
       "    // starts-up an IPython Comm through the \"matplotlib\" channel.\n",
       "\n",
       "    var id = msg.content.data.id;\n",
       "    // Get hold of the div created by the display call when the Comm\n",
       "    // socket was opened in Python.\n",
       "    var element = $(\"#\" + id);\n",
       "    var ws_proxy = comm_websocket_adapter(comm)\n",
       "\n",
       "    function ondownload(figure, format) {\n",
       "        window.open(figure.imageObj.src);\n",
       "    }\n",
       "\n",
       "    var fig = new mpl.figure(id, ws_proxy,\n",
       "                           ondownload,\n",
       "                           element.get(0));\n",
       "\n",
       "    // Call onopen now - mpl needs it, as it is assuming we've passed it a real\n",
       "    // web socket which is closed, not our websocket->open comm proxy.\n",
       "    ws_proxy.onopen();\n",
       "\n",
       "    fig.parent_element = element.get(0);\n",
       "    fig.cell_info = mpl.find_output_cell(\"<div id='\" + id + \"'></div>\");\n",
       "    if (!fig.cell_info) {\n",
       "        console.error(\"Failed to find cell for figure\", id, fig);\n",
       "        return;\n",
       "    }\n",
       "\n",
       "    var output_index = fig.cell_info[2]\n",
       "    var cell = fig.cell_info[0];\n",
       "\n",
       "};\n",
       "\n",
       "mpl.figure.prototype.handle_close = function(fig, msg) {\n",
       "    var width = fig.canvas.width/mpl.ratio\n",
       "    fig.root.unbind('remove')\n",
       "\n",
       "    // Update the output cell to use the data from the current canvas.\n",
       "    fig.push_to_output();\n",
       "    var dataURL = fig.canvas.toDataURL();\n",
       "    // Re-enable the keyboard manager in IPython - without this line, in FF,\n",
       "    // the notebook keyboard shortcuts fail.\n",
       "    IPython.keyboard_manager.enable()\n",
       "    $(fig.parent_element).html('<img src=\"' + dataURL + '\" width=\"' + width + '\">');\n",
       "    fig.close_ws(fig, msg);\n",
       "}\n",
       "\n",
       "mpl.figure.prototype.close_ws = function(fig, msg){\n",
       "    fig.send_message('closing', msg);\n",
       "    // fig.ws.close()\n",
       "}\n",
       "\n",
       "mpl.figure.prototype.push_to_output = function(remove_interactive) {\n",
       "    // Turn the data on the canvas into data in the output cell.\n",
       "    var width = this.canvas.width/mpl.ratio\n",
       "    var dataURL = this.canvas.toDataURL();\n",
       "    this.cell_info[1]['text/html'] = '<img src=\"' + dataURL + '\" width=\"' + width + '\">';\n",
       "}\n",
       "\n",
       "mpl.figure.prototype.updated_canvas_event = function() {\n",
       "    // Tell IPython that the notebook contents must change.\n",
       "    IPython.notebook.set_dirty(true);\n",
       "    this.send_message(\"ack\", {});\n",
       "    var fig = this;\n",
       "    // Wait a second, then push the new image to the DOM so\n",
       "    // that it is saved nicely (might be nice to debounce this).\n",
       "    setTimeout(function () { fig.push_to_output() }, 1000);\n",
       "}\n",
       "\n",
       "mpl.figure.prototype._init_toolbar = function() {\n",
       "    var fig = this;\n",
       "\n",
       "    var nav_element = $('<div/>')\n",
       "    nav_element.attr('style', 'width: 100%');\n",
       "    this.root.append(nav_element);\n",
       "\n",
       "    // Define a callback function for later on.\n",
       "    function toolbar_event(event) {\n",
       "        return fig.toolbar_button_onclick(event['data']);\n",
       "    }\n",
       "    function toolbar_mouse_event(event) {\n",
       "        return fig.toolbar_button_onmouseover(event['data']);\n",
       "    }\n",
       "\n",
       "    for(var toolbar_ind in mpl.toolbar_items){\n",
       "        var name = mpl.toolbar_items[toolbar_ind][0];\n",
       "        var tooltip = mpl.toolbar_items[toolbar_ind][1];\n",
       "        var image = mpl.toolbar_items[toolbar_ind][2];\n",
       "        var method_name = mpl.toolbar_items[toolbar_ind][3];\n",
       "\n",
       "        if (!name) { continue; };\n",
       "\n",
       "        var button = $('<button class=\"btn btn-default\" href=\"#\" title=\"' + name + '\"><i class=\"fa ' + image + ' fa-lg\"></i></button>');\n",
       "        button.click(method_name, toolbar_event);\n",
       "        button.mouseover(tooltip, toolbar_mouse_event);\n",
       "        nav_element.append(button);\n",
       "    }\n",
       "\n",
       "    // Add the status bar.\n",
       "    var status_bar = $('<span class=\"mpl-message\" style=\"text-align:right; float: right;\"/>');\n",
       "    nav_element.append(status_bar);\n",
       "    this.message = status_bar[0];\n",
       "\n",
       "    // Add the close button to the window.\n",
       "    var buttongrp = $('<div class=\"btn-group inline pull-right\"></div>');\n",
       "    var button = $('<button class=\"btn btn-mini btn-primary\" href=\"#\" title=\"Stop Interaction\"><i class=\"fa fa-power-off icon-remove icon-large\"></i></button>');\n",
       "    button.click(function (evt) { fig.handle_close(fig, {}); } );\n",
       "    button.mouseover('Stop Interaction', toolbar_mouse_event);\n",
       "    buttongrp.append(button);\n",
       "    var titlebar = this.root.find($('.ui-dialog-titlebar'));\n",
       "    titlebar.prepend(buttongrp);\n",
       "}\n",
       "\n",
       "mpl.figure.prototype._root_extra_style = function(el){\n",
       "    var fig = this\n",
       "    el.on(\"remove\", function(){\n",
       "\tfig.close_ws(fig, {});\n",
       "    });\n",
       "}\n",
       "\n",
       "mpl.figure.prototype._canvas_extra_style = function(el){\n",
       "    // this is important to make the div 'focusable\n",
       "    el.attr('tabindex', 0)\n",
       "    // reach out to IPython and tell the keyboard manager to turn it's self\n",
       "    // off when our div gets focus\n",
       "\n",
       "    // location in version 3\n",
       "    if (IPython.notebook.keyboard_manager) {\n",
       "        IPython.notebook.keyboard_manager.register_events(el);\n",
       "    }\n",
       "    else {\n",
       "        // location in version 2\n",
       "        IPython.keyboard_manager.register_events(el);\n",
       "    }\n",
       "\n",
       "}\n",
       "\n",
       "mpl.figure.prototype._key_event_extra = function(event, name) {\n",
       "    var manager = IPython.notebook.keyboard_manager;\n",
       "    if (!manager)\n",
       "        manager = IPython.keyboard_manager;\n",
       "\n",
       "    // Check for shift+enter\n",
       "    if (event.shiftKey && event.which == 13) {\n",
       "        this.canvas_div.blur();\n",
       "        event.shiftKey = false;\n",
       "        // Send a \"J\" for go to next cell\n",
       "        event.which = 74;\n",
       "        event.keyCode = 74;\n",
       "        manager.command_mode();\n",
       "        manager.handle_keydown(event);\n",
       "    }\n",
       "}\n",
       "\n",
       "mpl.figure.prototype.handle_save = function(fig, msg) {\n",
       "    fig.ondownload(fig, null);\n",
       "}\n",
       "\n",
       "\n",
       "mpl.find_output_cell = function(html_output) {\n",
       "    // Return the cell and output element which can be found *uniquely* in the notebook.\n",
       "    // Note - this is a bit hacky, but it is done because the \"notebook_saving.Notebook\"\n",
       "    // IPython event is triggered only after the cells have been serialised, which for\n",
       "    // our purposes (turning an active figure into a static one), is too late.\n",
       "    var cells = IPython.notebook.get_cells();\n",
       "    var ncells = cells.length;\n",
       "    for (var i=0; i<ncells; i++) {\n",
       "        var cell = cells[i];\n",
       "        if (cell.cell_type === 'code'){\n",
       "            for (var j=0; j<cell.output_area.outputs.length; j++) {\n",
       "                var data = cell.output_area.outputs[j];\n",
       "                if (data.data) {\n",
       "                    // IPython >= 3 moved mimebundle to data attribute of output\n",
       "                    data = data.data;\n",
       "                }\n",
       "                if (data['text/html'] == html_output) {\n",
       "                    return [cell, data, j];\n",
       "                }\n",
       "            }\n",
       "        }\n",
       "    }\n",
       "}\n",
       "\n",
       "// Register the function which deals with the matplotlib target/channel.\n",
       "// The kernel may be null if the page has been refreshed.\n",
       "if (IPython.notebook.kernel != null) {\n",
       "    IPython.notebook.kernel.comm_manager.register_target('matplotlib', mpl.mpl_figure_comm);\n",
       "}\n"
      ],
      "text/plain": [
       "<IPython.core.display.Javascript object>"
      ]
     },
     "metadata": {},
     "output_type": "display_data"
    },
    {
     "data": {
      "text/html": [
       "<img src=\"data:image/png;base64,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\" width=\"640\">"
      ],
      "text/plain": [
       "<IPython.core.display.HTML object>"
      ]
     },
     "metadata": {},
     "output_type": "display_data"
    },
    {
     "data": {
      "text/plain": [
       "Text(0, 0.5, 'y')"
      ]
     },
     "execution_count": 3,
     "metadata": {},
     "output_type": "execute_result"
    }
   ],
   "source": [
    "import matplotlib.pyplot as plt\n",
    "plt.plot([1, 2, 3], [4, 5, 6])\n",
    "plt.xlabel(\"x\")\n",
    "plt.ylabel(\"y\")"
   ]
  },
  {
   "cell_type": "markdown",
   "metadata": {
    "nbpresent": {
     "id": "80fe17d0-fcc2-4126-898a-a1761287dc27"
    }
   },
   "source": [
    "As before, you can always go back and edit the cell to make changes and then re-make the plot.  You can also go back and change the matplotlib magic command and change where you are directing the output (if you make a matplotlib magic command change, it only affects the output of cells executed AFTER the change). \n",
    "\n",
    "If you want to save the plot, make sure you include ``plt.savefig(filename)`` as the last command, where ``filename`` is the name of the plot, such as ``my_plot.png``.  The suffix of the filename determines the file format."
   ]
  },
  {
   "cell_type": "markdown",
   "metadata": {
    "nbpresent": {
     "id": "9105381c-8a2a-4f6a-aebd-0d2c81e8863a"
    }
   },
   "source": [
    "## Text"
   ]
  },
  {
   "cell_type": "markdown",
   "metadata": {
    "nbpresent": {
     "id": "7d99ead2-a133-40b4-90d9-53fbfa7f0f93"
    }
   },
   "source": [
    "To enter actual text (non-code) in the notebook, click on a cell, and in the drop-down menu in the toolbar, select 'Markdown'. This is a specific type of syntax for writing text. You can just write text normally and press shift-enter to *render* it:\n",
    "\n",
    "    This is some plain text\n",
    "\n",
    "To edit it, double click on the cell. You can also enter section headings using the following syntax:\n",
    "\n",
    "    This is a title\n",
    "    ===============\n",
    "\n",
    "    This is a sub-title\n",
    "    -------------------\n",
    "\n",
    "which will look like:\n",
    "\n",
    "This is a title\n",
    "===============\n",
    "\n",
    "This is a sub-title\n",
    "-------------------\n",
    "\n",
    "Finally, if you are familiar with LaTeX, you can enter equations using:\n",
    "\n",
    "    $$E = m c^2$$\n",
    "\n",
    "on a separate line, or:\n",
    "\n",
    "    The equation $p=\\frac{h}{\\lambda}$ is very important\n",
    "\n",
    "to include it in a sentence. This will look like:\n",
    "\n",
    "$$E = m c^2$$\n",
    "\n",
    "The equation $p=\\frac{h}{\\lambda}$ is very important"
   ]
  },
  {
   "cell_type": "markdown",
   "metadata": {
    "nbpresent": {
     "id": "c932cfdc-66e3-469a-8acc-2265cfdbfb74"
    }
   },
   "source": [
    "## Splitting/deleting/moving cells"
   ]
  },
  {
   "cell_type": "markdown",
   "metadata": {
    "nbpresent": {
     "id": "2d24cab1-ee8a-4a05-b62d-178c2ba27cd5"
    }
   },
   "source": [
    "You can split, delete, and move cells by going to 'Edit' and selecting the appropriate command. Some of the commands are also available in the toolbar - put your mouse over the icon and wait for a second, and it will tell you what it does."
   ]
  },
  {
   "cell_type": "markdown",
   "metadata": {
    "nbpresent": {
     "id": "a5eb353e-4949-47c8-ab2b-fd0dd1397442"
    }
   },
   "source": [
    "## Sharing your notebook"
   ]
  },
  {
   "cell_type": "markdown",
   "metadata": {
    "nbpresent": {
     "id": "2930326f-4ac8-4c3d-8f9b-eeb9133d3316"
    }
   },
   "source": [
    "Once you are happy with your notebook, you can share it with other people. The file containing your notebook is the ``.ipynb`` file that is in the directory in which you started the notebook and has the correct name. You can send this file directly to other people, and they will be able to view it in their Jupyter notebook application.\n",
    "\n",
    "If you add a notebook to GitHub, it will also be rendered there, so this is another way of sharing notebooks. To quickly share a notebook, you can just go to [http://gist.github.com](http://gist.github.com) and drag and drop the notebook onto the page, then click on **Create Private Gist** or **Create Public Gist** (a private one is still really public, but only people with the link will be able to find it)."
   ]
  },
  {
   "cell_type": "markdown",
   "metadata": {
    "nbpresent": {
     "id": "2c369eb9-8071-45d6-8435-75d87f208cab"
    }
   },
   "source": [
    "## Important notes"
   ]
  },
  {
   "cell_type": "markdown",
   "metadata": {
    "nbpresent": {
     "id": "9346c79b-b494-41b8-b0f5-2c19cc09b5c7"
    }
   },
   "source": [
    "A few important notes about using the notebook: code *can* be executed in an order different from top to bottom, but note that if you do this, variables will not be reset. So for example if you type:"
   ]
  },
  {
   "cell_type": "code",
   "execution_count": null,
   "metadata": {
    "nbpresent": {
     "id": "713809f0-89a4-4cbd-a0bb-b004b4fa253a"
    }
   },
   "outputs": [],
   "source": [
    "a = 1"
   ]
  },
  {
   "cell_type": "markdown",
   "metadata": {
    "nbpresent": {
     "id": "417f32d9-c120-48fa-b062-045652a91ead"
    }
   },
   "source": [
    "then go higher up and type:"
   ]
  },
  {
   "cell_type": "code",
   "execution_count": null,
   "metadata": {
    "nbpresent": {
     "id": "dade77fd-912f-414b-9928-6fab30487a36"
    }
   },
   "outputs": [],
   "source": [
    "print(a)"
   ]
  },
  {
   "cell_type": "markdown",
   "metadata": {
    "nbpresent": {
     "id": "ff0c18da-f685-42c2-9580-6f0768a3f63a"
    }
   },
   "source": [
    "it will give the value you previously set. To make sure that your code works from top to bottom, go to the **Cell** menu item and go to **All Output** -> **Clear** then in the **Cell** menu, select **Run All**.\n",
    "\n",
    "In addition, even if you remove a cell, then variables set in that cell still exist unless you restart the notebook. If you want to restart a notebook, you can select **Kernel** -> **Restart**. This removes any variables from memory, and you have to start running the notebook from the start."
   ]
  }
 ],
 "metadata": {
  "anaconda-cloud": {},
  "kernelspec": {
   "display_name": "Python 3",
   "language": "python",
   "name": "python3"
  },
  "language_info": {
   "codemirror_mode": {
    "name": "ipython",
    "version": 3
   },
   "file_extension": ".py",
   "mimetype": "text/x-python",
   "name": "python",
   "nbconvert_exporter": "python",
   "pygments_lexer": "ipython3",
   "version": "3.6.6"
  },
  "nbpresent": {
   "slides": {
    "0f58d322-a2bd-4547-83cd-6aa2b2359a56": {
     "id": "0f58d322-a2bd-4547-83cd-6aa2b2359a56",
     "prev": "975c109c-3be4-43ec-874f-3165e100c6c3",
     "regions": {
      "8988cc2e-db0b-4600-ae2a-df98ae3362d6": {
       "attrs": {
        "height": 0.8,
        "width": 0.8,
        "x": 0.1,
        "y": 0.1
       },
       "content": {
        "cell": "80fe17d0-fcc2-4126-898a-a1761287dc27",
        "part": "whole"
       },
       "id": "8988cc2e-db0b-4600-ae2a-df98ae3362d6"
      }
     }
    },
    "188d7e1c-e1fc-40ec-8b76-d82c0b466d72": {
     "id": "188d7e1c-e1fc-40ec-8b76-d82c0b466d72",
     "prev": "590e3d8f-6ae7-45ab-be14-2fc0056fd242",
     "regions": {
      "d2dbb620-244c-4b1c-94dc-332a483d9932": {
       "attrs": {
        "height": 0.8,
        "width": 0.8,
        "x": 0.1,
        "y": 0.1
       },
       "content": {
        "cell": "ded46a09-247b-4210-86de-10c18a434dd4",
        "part": "whole"
       },
       "id": "d2dbb620-244c-4b1c-94dc-332a483d9932"
      }
     }
    },
    "3267b11a-148b-4530-af3e-27e67fff1763": {
     "id": "3267b11a-148b-4530-af3e-27e67fff1763",
     "prev": "73d05e56-4397-495b-9e1f-94d218026202",
     "regions": {
      "35ad5b3c-b09b-4a61-a1b5-40ab27a4f5b6": {
       "attrs": {
        "height": 0.8,
        "width": 0.8,
        "x": 0.1,
        "y": 0.1
       },
       "content": {
        "cell": "8c25ac6e-3312-4d59-a34a-9fe918f5aa57",
        "part": "whole"
       },
       "id": "35ad5b3c-b09b-4a61-a1b5-40ab27a4f5b6"
      }
     }
    },
    "3792cc0c-cf59-4bf9-9412-3241856af11e": {
     "id": "3792cc0c-cf59-4bf9-9412-3241856af11e",
     "prev": "fec55f28-172e-4ec5-bd5e-420237798ccf",
     "regions": {
      "2e5ce04e-c10a-4a41-ac8a-b567037e3842": {
       "attrs": {
        "height": 0.8,
        "width": 0.8,
        "x": 0.1,
        "y": 0.1
       },
       "content": {
        "cell": "c932cfdc-66e3-469a-8acc-2265cfdbfb74",
        "part": "whole"
       },
       "id": "2e5ce04e-c10a-4a41-ac8a-b567037e3842"
      }
     }
    },
    "392780b1-6544-430d-a25d-0645832d5dfa": {
     "id": "392780b1-6544-430d-a25d-0645832d5dfa",
     "prev": "ded3744c-d5d6-4ac7-9308-f111ef45b61a",
     "regions": {
      "097041d5-3f09-48fe-b4e9-3f22e946f08c": {
       "attrs": {
        "height": 0.8,
        "width": 0.8,
        "x": 0.1,
        "y": 0.1
       },
       "content": {
        "cell": "ff0c18da-f685-42c2-9580-6f0768a3f63a",
        "part": "whole"
       },
       "id": "097041d5-3f09-48fe-b4e9-3f22e946f08c"
      }
     }
    },
    "41e91d85-a937-4036-9a05-9154fc9326b7": {
     "id": "41e91d85-a937-4036-9a05-9154fc9326b7",
     "prev": "ce4f74a7-ed22-4fa1-b63d-46508ecae61a",
     "regions": {
      "6af22ce4-2c7f-4a85-a4d1-cbb81893ce41": {
       "attrs": {
        "height": 0.8,
        "width": 0.8,
        "x": 0.1,
        "y": 0.1
       },
       "content": {
        "cell": "2c369eb9-8071-45d6-8435-75d87f208cab",
        "part": "whole"
       },
       "id": "6af22ce4-2c7f-4a85-a4d1-cbb81893ce41"
      }
     }
    },
    "49139172-8e43-45b7-b96e-95d57dd012ed": {
     "id": "49139172-8e43-45b7-b96e-95d57dd012ed",
     "prev": "3792cc0c-cf59-4bf9-9412-3241856af11e",
     "regions": {
      "789747c6-2bf0-4789-a07a-3ba318a9ed6c": {
       "attrs": {
        "height": 0.8,
        "width": 0.8,
        "x": 0.1,
        "y": 0.1
       },
       "content": {
        "cell": "2d24cab1-ee8a-4a05-b62d-178c2ba27cd5",
        "part": "whole"
       },
       "id": "789747c6-2bf0-4789-a07a-3ba318a9ed6c"
      }
     }
    },
    "590e3d8f-6ae7-45ab-be14-2fc0056fd242": {
     "id": "590e3d8f-6ae7-45ab-be14-2fc0056fd242",
     "prev": "f864c1c5-c61e-4f2e-8634-51a15b78459c",
     "regions": {
      "4de53284-9671-41b4-b7d5-42ba50a11998": {
       "attrs": {
        "height": 0.8,
        "width": 0.8,
        "x": 0.1,
        "y": 0.1
       },
       "content": {
        "cell": "5c154836-de9a-4b14-af1c-b545929b0d2f",
        "part": "whole"
       },
       "id": "4de53284-9671-41b4-b7d5-42ba50a11998"
      }
     }
    },
    "676fb43c-136c-4c2e-b431-fc3d9e73ab95": {
     "id": "676fb43c-136c-4c2e-b431-fc3d9e73ab95",
     "prev": "6cb28851-ca74-4a4c-891f-24447bc93179",
     "regions": {
      "94738b4c-0b88-4732-b595-7561dab26b75": {
       "attrs": {
        "height": 0.8,
        "width": 0.8,
        "x": 0.1,
        "y": 0.1
       },
       "content": {
        "cell": "120f3258-88a8-4bdb-908f-e94d98600e8e",
        "part": "whole"
       },
       "id": "94738b4c-0b88-4732-b595-7561dab26b75"
      }
     }
    },
    "6cb28851-ca74-4a4c-891f-24447bc93179": {
     "id": "6cb28851-ca74-4a4c-891f-24447bc93179",
     "prev": "a3fd22e7-cee3-4230-a79c-745e008064fa",
     "regions": {
      "4e964a33-1972-40fe-b873-a87a6dee659f": {
       "attrs": {
        "height": 0.8,
        "width": 0.8,
        "x": 0.1,
        "y": 0.1
       },
       "content": {
        "cell": "def841eb-06c3-45dd-929f-62b453f548fb",
        "part": "whole"
       },
       "id": "4e964a33-1972-40fe-b873-a87a6dee659f"
      }
     }
    },
    "73d05e56-4397-495b-9e1f-94d218026202": {
     "id": "73d05e56-4397-495b-9e1f-94d218026202",
     "prev": null,
     "regions": {
      "f37ee98f-1599-4160-9422-4e8bf90b72f7": {
       "attrs": {
        "height": 0.8,
        "width": 0.8,
        "x": 0.1,
        "y": 0.1
       },
       "content": {
        "cell": "95b6bb9b-b79e-4ad5-8fa9-5de465ffbe66",
        "part": "whole"
       },
       "id": "f37ee98f-1599-4160-9422-4e8bf90b72f7"
      }
     }
    },
    "82b8d982-30f9-4f1f-891d-ed19ca3edcb1": {
     "id": "82b8d982-30f9-4f1f-891d-ed19ca3edcb1",
     "prev": "0f58d322-a2bd-4547-83cd-6aa2b2359a56",
     "regions": {
      "5a880491-7648-4652-927a-f080deb447c3": {
       "attrs": {
        "height": 0.8,
        "width": 0.8,
        "x": 0.1,
        "y": 0.1
       },
       "content": {
        "cell": "9105381c-8a2a-4f6a-aebd-0d2c81e8863a",
        "part": "whole"
       },
       "id": "5a880491-7648-4652-927a-f080deb447c3"
      }
     }
    },
    "832232ba-6d14-48df-ad16-13c33233ca8c": {
     "id": "832232ba-6d14-48df-ad16-13c33233ca8c",
     "prev": "49139172-8e43-45b7-b96e-95d57dd012ed",
     "regions": {
      "5618f978-8a6b-4267-ab1e-d215f6255a0b": {
       "attrs": {
        "height": 0.8,
        "width": 0.8,
        "x": 0.1,
        "y": 0.1
       },
       "content": {
        "cell": "a5eb353e-4949-47c8-ab2b-fd0dd1397442",
        "part": "whole"
       },
       "id": "5618f978-8a6b-4267-ab1e-d215f6255a0b"
      }
     }
    },
    "90d2cd1d-5c08-48ce-8efc-dca18349efb5": {
     "id": "90d2cd1d-5c08-48ce-8efc-dca18349efb5",
     "prev": "eef4e7a5-5421-472f-a810-8d811f739c71",
     "regions": {
      "8a21d0bf-f158-4e61-afba-9828f4c9f18f": {
       "attrs": {
        "height": 0.8,
        "width": 0.8,
        "x": 0.1,
        "y": 0.1
       },
       "content": {
        "cell": "713809f0-89a4-4cbd-a0bb-b004b4fa253a",
        "part": "whole"
       },
       "id": "8a21d0bf-f158-4e61-afba-9828f4c9f18f"
      }
     }
    },
    "975c109c-3be4-43ec-874f-3165e100c6c3": {
     "id": "975c109c-3be4-43ec-874f-3165e100c6c3",
     "prev": "b3985054-a78b-466c-89bd-8b94c1267f52",
     "regions": {
      "4cf4cbde-12ed-42ad-8efb-7aaa2a51b9f2": {
       "attrs": {
        "height": 0.8,
        "width": 0.8,
        "x": 0.1,
        "y": 0.1
       },
       "content": {
        "cell": "c6dfdbcc-d701-49b2-ab03-54cfa38ce867",
        "part": "whole"
       },
       "id": "4cf4cbde-12ed-42ad-8efb-7aaa2a51b9f2"
      }
     }
    },
    "a3fd22e7-cee3-4230-a79c-745e008064fa": {
     "id": "a3fd22e7-cee3-4230-a79c-745e008064fa",
     "prev": "fbb51a89-482e-4ce6-8618-3e4bb47a3897",
     "regions": {
      "a75ef572-b4ca-4bb8-a60b-8ea0f00647b2": {
       "attrs": {
        "height": 0.8,
        "width": 0.8,
        "x": 0.1,
        "y": 0.1
       },
       "content": {
        "cell": "7cc8e3c4-be1d-44f7-99f7-773347ede0bd",
        "part": "whole"
       },
       "id": "a75ef572-b4ca-4bb8-a60b-8ea0f00647b2"
      }
     }
    },
    "b3985054-a78b-466c-89bd-8b94c1267f52": {
     "id": "b3985054-a78b-466c-89bd-8b94c1267f52",
     "prev": "188d7e1c-e1fc-40ec-8b76-d82c0b466d72",
     "regions": {
      "40c0e460-7da1-4221-bc13-ce6d92cab50f": {
       "attrs": {
        "height": 0.8,
        "width": 0.8,
        "x": 0.1,
        "y": 0.1
       },
       "content": {
        "cell": "1b5dbad8-35d8-4e2a-8877-e10162c1a5ce",
        "part": "whole"
       },
       "id": "40c0e460-7da1-4221-bc13-ce6d92cab50f"
      }
     }
    },
    "ce4f74a7-ed22-4fa1-b63d-46508ecae61a": {
     "id": "ce4f74a7-ed22-4fa1-b63d-46508ecae61a",
     "prev": "832232ba-6d14-48df-ad16-13c33233ca8c",
     "regions": {
      "78536718-b9c4-42bb-ac63-0569ab4afa6b": {
       "attrs": {
        "height": 0.8,
        "width": 0.8,
        "x": 0.1,
        "y": 0.1
       },
       "content": {
        "cell": "2930326f-4ac8-4c3d-8f9b-eeb9133d3316",
        "part": "whole"
       },
       "id": "78536718-b9c4-42bb-ac63-0569ab4afa6b"
      }
     }
    },
    "ded3744c-d5d6-4ac7-9308-f111ef45b61a": {
     "id": "ded3744c-d5d6-4ac7-9308-f111ef45b61a",
     "prev": "f2b7ee47-381f-42d0-bd27-04085e3855cf",
     "regions": {
      "9d05eb8c-3cfc-4515-a852-77e5c1ea145f": {
       "attrs": {
        "height": 0.8,
        "width": 0.8,
        "x": 0.1,
        "y": 0.1
       },
       "content": {
        "cell": "dade77fd-912f-414b-9928-6fab30487a36",
        "part": "whole"
       },
       "id": "9d05eb8c-3cfc-4515-a852-77e5c1ea145f"
      }
     }
    },
    "eef4e7a5-5421-472f-a810-8d811f739c71": {
     "id": "eef4e7a5-5421-472f-a810-8d811f739c71",
     "prev": "41e91d85-a937-4036-9a05-9154fc9326b7",
     "regions": {
      "9ab36876-bcf5-4db2-a838-c8decaa84907": {
       "attrs": {
        "height": 0.8,
        "width": 0.8,
        "x": 0.1,
        "y": 0.1
       },
       "content": {
        "cell": "9346c79b-b494-41b8-b0f5-2c19cc09b5c7",
        "part": "whole"
       },
       "id": "9ab36876-bcf5-4db2-a838-c8decaa84907"
      }
     }
    },
    "f2b7ee47-381f-42d0-bd27-04085e3855cf": {
     "id": "f2b7ee47-381f-42d0-bd27-04085e3855cf",
     "prev": "90d2cd1d-5c08-48ce-8efc-dca18349efb5",
     "regions": {
      "3f25d3fd-74f6-477d-806f-b737b5327ee2": {
       "attrs": {
        "height": 0.8,
        "width": 0.8,
        "x": 0.1,
        "y": 0.1
       },
       "content": {
        "cell": "417f32d9-c120-48fa-b062-045652a91ead",
        "part": "whole"
       },
       "id": "3f25d3fd-74f6-477d-806f-b737b5327ee2"
      }
     }
    },
    "f864c1c5-c61e-4f2e-8634-51a15b78459c": {
     "id": "f864c1c5-c61e-4f2e-8634-51a15b78459c",
     "prev": "676fb43c-136c-4c2e-b431-fc3d9e73ab95",
     "regions": {
      "43d982ea-9933-4ba1-96f2-b6f71d487530": {
       "attrs": {
        "height": 0.8,
        "width": 0.8,
        "x": 0.1,
        "y": 0.1
       },
       "content": {
        "cell": "fbf2d2f2-eeb7-4509-acdc-15e4a537dd47",
        "part": "whole"
       },
       "id": "43d982ea-9933-4ba1-96f2-b6f71d487530"
      }
     }
    },
    "fbb51a89-482e-4ce6-8618-3e4bb47a3897": {
     "id": "fbb51a89-482e-4ce6-8618-3e4bb47a3897",
     "prev": "3267b11a-148b-4530-af3e-27e67fff1763",
     "regions": {
      "9323ea38-c11a-427b-97bc-c644d87520ee": {
       "attrs": {
        "height": 0.8,
        "width": 0.8,
        "x": 0.1,
        "y": 0.1
       },
       "content": {
        "cell": "b3d2f6f7-c558-4fff-9a25-91c328d8a400",
        "part": "whole"
       },
       "id": "9323ea38-c11a-427b-97bc-c644d87520ee"
      }
     }
    },
    "fec55f28-172e-4ec5-bd5e-420237798ccf": {
     "id": "fec55f28-172e-4ec5-bd5e-420237798ccf",
     "prev": "82b8d982-30f9-4f1f-891d-ed19ca3edcb1",
     "regions": {
      "a861688b-c457-4b83-9508-72be11d11be4": {
       "attrs": {
        "height": 0.8,
        "width": 0.8,
        "x": 0.1,
        "y": 0.1
       },
       "content": {
        "cell": "7d99ead2-a133-40b4-90d9-53fbfa7f0f93",
        "part": "whole"
       },
       "id": "a861688b-c457-4b83-9508-72be11d11be4"
      }
     }
    }
   },
   "themes": {}
  }
 },
 "nbformat": 4,
 "nbformat_minor": 1
}
